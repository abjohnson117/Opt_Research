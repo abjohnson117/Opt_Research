{
 "cells": [
  {
   "cell_type": "code",
   "execution_count": 1,
   "metadata": {},
   "outputs": [],
   "source": [
    "import numpy as np\n",
    "from scipy.linalg import svdvals\n",
    "from matplotlib import pyplot as plt\n",
    "import time"
   ]
  },
  {
   "cell_type": "code",
   "execution_count": 2,
   "metadata": {},
   "outputs": [],
   "source": [
    "m = 40\n",
    "n = 100"
   ]
  },
  {
   "cell_type": "markdown",
   "metadata": {},
   "source": [
    "We first set up the problem\n",
    "\\begin{align*}\n",
    "    Ax = b\n",
    "\\end{align*}\n",
    "where we $A$ is a random, standard Gaussian matrix of dimension $m \\times n$ (where the actual size of $m,n$ are defined in the cell immediately above), the true $x$ has 10 randomly selected spikes, and $b$ is given by\n",
    "\\begin{align*}\n",
    "    b = Ax + \\gamma y\n",
    "\\end{align*}\n",
    "where $y$ is a standard Gaussian noise vector."
   ]
  },
  {
   "cell_type": "code",
   "execution_count": 124,
   "metadata": {},
   "outputs": [],
   "source": [
    "gamma = 0.05\n",
    "A = np.random.normal(0,1,(m,n))\n",
    "x_true = np.zeros(n)\n",
    "idx_spike = np.random.randint(0,n,10)\n",
    "x_true[idx_spike] = 1\n",
    "b = np.dot(A,x_true) + gamma*np.random.normal(0,1,m)"
   ]
  },
  {
   "cell_type": "markdown",
   "metadata": {},
   "source": [
    "Here we initialize a first \"guess\" for $x$."
   ]
  },
  {
   "cell_type": "code",
   "execution_count": 125,
   "metadata": {},
   "outputs": [],
   "source": [
    "x_init = np.ones(n)"
   ]
  },
  {
   "cell_type": "markdown",
   "metadata": {},
   "source": [
    "Now we want to find a potential answer to our inverse problem and solve for some $x$. To do this, we first calculate the $\\lambda$ hyperparameter used in the regularized linear least squares problem:\n",
    "\\begin{align*}\n",
    "     \\displaystyle \\min_{x} \\frac{1}{2}||Ax - b||^{2} + \\lambda R(Cx).\n",
    "\\end{align*}\n",
    "Since we are first implementing the lasso method, we know necessarily that $R(Cx) = ||x||_1$."
   ]
  },
  {
   "cell_type": "code",
   "execution_count": 126,
   "metadata": {},
   "outputs": [],
   "source": [
    "lam = np.linalg.norm(np.dot(A.T, b),ord=np.inf)/10"
   ]
  },
  {
   "cell_type": "markdown",
   "metadata": {},
   "source": [
    "## Section 1 - Implementing simple Lasso"
   ]
  },
  {
   "cell_type": "markdown",
   "metadata": {},
   "source": [
    "First, we are going to implement the Lasso method. Since Lasso necessarily uses the $||\\cdot ||_1$ norm, then we define \n",
    "\\begin{align}\n",
    "    \\mathrm{prox}_{\\lambda || \\cdot ||_1}(x) = \\mathrm{sign}(x)\\mathrm{max}(|x|-\\lambda,0)\n",
    "\\end{align}\n",
    "Note, it is necessary that $x \\in \\mathbb{R}$."
   ]
  },
  {
   "cell_type": "markdown",
   "metadata": {},
   "source": [
    "Here we create a maximum function that compares every element in a $\\verb+numpy+$ array to a desired number (of type float or int) and returns a vector of like dimension that has taken the maximum value between the desired number and every element in the array."
   ]
  },
  {
   "cell_type": "code",
   "execution_count": 99,
   "metadata": {},
   "outputs": [],
   "source": [
    "def max_function(x, num_compare):\n",
    "    return np.array([i if i >= num_compare else num_compare for i in x], dtype=float)"
   ]
  },
  {
   "cell_type": "markdown",
   "metadata": {},
   "source": [
    "This function implements formula (1). Note that every operation is completed entry-wise."
   ]
  },
  {
   "cell_type": "code",
   "execution_count": 100,
   "metadata": {},
   "outputs": [],
   "source": [
    "def prox_op(x,lambd):\n",
    "    return np.sign(x)*max_function(np.abs(x)-lambd,0)"
   ]
  },
  {
   "cell_type": "code",
   "execution_count": 119,
   "metadata": {},
   "outputs": [],
   "source": [
    "cond_A = svdvals(A)[0]\n",
    "eta = 0.001\n",
    "k = 0\n",
    "tol = 0.00001\n",
    "max_step = 100\n",
    "assert eta <= 1/(cond_A**2)"
   ]
  },
  {
   "cell_type": "markdown",
   "metadata": {},
   "source": [
    "We now create a $\\verb+lasso+$ function that will perform the desired prox-gradient descent and solve the inverse problem constructed, with the intent of creating an $\\verb+x_guess+$ vector that is as close to $\\verb+x_true+$ as possible."
   ]
  },
  {
   "cell_type": "code",
   "execution_count": 9,
   "metadata": {},
   "outputs": [],
   "source": [
    "def lasso(x, max_step, k, eta, lam, tol):\n",
    "    start = time.time()\n",
    "    while (max_step > tol):\n",
    "        k += 1\n",
    "        x_old = x\n",
    "        x = prox_op(x_old - eta*(A.T)@((A@x_old)-b),eta*lam)\n",
    "        step = abs((x - x_old)/eta)\n",
    "        max_step = step.max()\n",
    "    end = time.time()\n",
    "    return x, start, end, k"
   ]
  },
  {
   "cell_type": "markdown",
   "metadata": {},
   "source": [
    "Now we are going to run our $\\verb+lasso+$ function and see if, at the very least, it includes the nonzero entries inside our $\\verb+x_true+$ vector."
   ]
  },
  {
   "cell_type": "code",
   "execution_count": 10,
   "metadata": {},
   "outputs": [],
   "source": [
    "x_guess, start, end, iters = lasso(x_init, max_step, k, eta, lam, tol)"
   ]
  },
  {
   "cell_type": "code",
   "execution_count": 11,
   "metadata": {},
   "outputs": [],
   "source": [
    "x_guess_nonzero = np.nonzero(x_guess)\n",
    "x_true_nonzero = np.nonzero(x_true)"
   ]
  },
  {
   "cell_type": "code",
   "execution_count": 12,
   "metadata": {},
   "outputs": [
    {
     "data": {
      "text/plain": [
       "[<matplotlib.lines.Line2D at 0x7fac38b96430>]"
      ]
     },
     "execution_count": 12,
     "metadata": {},
     "output_type": "execute_result"
    },
    {
     "data": {
      "image/png": "[encoded data removed]",
      "text/plain": [
       "<Figure size 432x288 with 1 Axes>"
      ]
     },
     "metadata": {
      "needs_background": "light"
     },
     "output_type": "display_data"
    }
   ],
   "source": [
    "from matplotlib import pyplot as plt\n",
    "plt.plot(x_true)\n",
    "plt.plot(x_guess)"
   ]
  },
  {
   "cell_type": "code",
   "execution_count": 13,
   "metadata": {},
   "outputs": [
    {
     "data": {
      "text/plain": [
       "array([[ True,  True,  True,  True,  True,  True,  True,  True]])"
      ]
     },
     "execution_count": 13,
     "metadata": {},
     "output_type": "execute_result"
    }
   ],
   "source": [
    "np.isin(x_true_nonzero, x_guess_nonzero)"
   ]
  },
  {
   "cell_type": "markdown",
   "metadata": {},
   "source": [
    "From what is directly above, we see clearly that all the nonzero entries inside our true solution $\\verb+x_true+$ are at least inside the solution given by the lasso regression, $\\verb+x_guess+$. Though, note that the number of nonzero entries in $\\verb+x_guess+$ is greater than that of $\\verb+x_true+$:"
   ]
  },
  {
   "cell_type": "code",
   "execution_count": 14,
   "metadata": {},
   "outputs": [
    {
     "name": "stdout",
     "output_type": "stream",
     "text": [
      "This is the number of nonzero entries in x_guess: 13\n",
      "This is the number of nonzero entries in x_true: 8\n"
     ]
    }
   ],
   "source": [
    "print(\"This is the number of nonzero entries in x_guess: \" + str(len(x_guess_nonzero[0])))\n",
    "print(\"This is the number of nonzero entries in x_true: \" + str(len(x_true_nonzero[0])))"
   ]
  },
  {
   "cell_type": "markdown",
   "metadata": {},
   "source": [
    "Hence, there is imprecision in that we would prefer to have more entries in $\\verb+x_guess+$ to be closer to 0.\n",
    "\n",
    "We also show the number of iterations and the time it takes for the lasso method to converge:"
   ]
  },
  {
   "cell_type": "code",
   "execution_count": 15,
   "metadata": {},
   "outputs": [
    {
     "name": "stdout",
     "output_type": "stream",
     "text": [
      "This is the number of iterations required for lasso to converge: 1785\n",
      "This is the number of seconds it takes for lasso to converge: 0.08985209465026855\n"
     ]
    }
   ],
   "source": [
    "print(\"This is the number of iterations required for lasso to converge: \" + str(iters))\n",
    "print(\"This is the number of seconds it takes for lasso to converge: \" + str(end - start))"
   ]
  },
  {
   "cell_type": "markdown",
   "metadata": {},
   "source": [
    "## Section 2 - SR3 method"
   ]
  },
  {
   "cell_type": "markdown",
   "metadata": {},
   "source": [
    "We will compare the above to the SR3 method. For reference, the general SR3 formulation is as follows:\n",
    "\\begin{align*}\n",
    "    \\displaystyle \\min_{x,w} \\frac{1}{2}||Ax-b||^{2} + \\lambda R(w) + \\frac{\\kappa}{2}||Cx - w||^{2}.\n",
    "\\end{align*}\n",
    "We first want to recover a relaxed version of lasso. To do this, we take $R(\\cdot) = ||\\cdot ||_{1}$ and $C=I$. In this instance as well, we take $\\kappa = 100$. We proceed as follows. "
   ]
  },
  {
   "cell_type": "code",
   "execution_count": 16,
   "metadata": {},
   "outputs": [],
   "source": [
    "C = np.eye(n,n)\n",
    "kappa = 0.1\n",
    "lam_sr3 = (lam/(1 + cond_A**2))*kappa"
   ]
  },
  {
   "cell_type": "markdown",
   "metadata": {},
   "source": [
    "Central to the algorithm we implement is\n",
    "\\begin{align*}\n",
    "    H_{\\kappa} = A^{\\top}A + \\kappa C^{\\top}C .\n",
    "\\end{align*}\n",
    "We define this matrix immediately below."
   ]
  },
  {
   "cell_type": "code",
   "execution_count": 17,
   "metadata": {},
   "outputs": [],
   "source": [
    "H_k = np.dot(A.T,A) + kappa*np.dot(C.T,C)\n",
    "H = np.linalg.inv(H_k)\n",
    "w = np.ones(n)"
   ]
  },
  {
   "cell_type": "markdown",
   "metadata": {},
   "source": [
    "We now implement the algorithm for SR3"
   ]
  },
  {
   "cell_type": "code",
   "execution_count": 18,
   "metadata": {},
   "outputs": [],
   "source": [
    "k_sr3 = 0\n",
    "eta = 1/kappa\n",
    "max_step = 100"
   ]
  },
  {
   "cell_type": "code",
   "execution_count": 19,
   "metadata": {},
   "outputs": [],
   "source": [
    "def sr3(w, H, A, b, C, max_step, k, eta, tol, kappa, lam):\n",
    "    start = time.time()\n",
    "    while (max_step > tol):\n",
    "        k += 1\n",
    "        w_old = w\n",
    "        x = H@(np.dot(A.T, b) + kappa*np.dot(C.T, w_old))\n",
    "        w = prox_op(np.dot(C,x),eta*lam)\n",
    "        step = abs((w - w_old)/eta)\n",
    "        max_step = step.max()\n",
    "    end = time.time()\n",
    "    return w, start, end, k"
   ]
  },
  {
   "cell_type": "code",
   "execution_count": 20,
   "metadata": {},
   "outputs": [],
   "source": [
    "w_guess, start_sr3, end_sr3, iters_sr3 = sr3(w,H,A,b,C,max_step,k_sr3,eta,tol,kappa,lam_sr3)"
   ]
  },
  {
   "cell_type": "code",
   "execution_count": 21,
   "metadata": {},
   "outputs": [
    {
     "data": {
      "text/plain": [
       "[<matplotlib.lines.Line2D at 0x7fac28f49f10>]"
      ]
     },
     "execution_count": 21,
     "metadata": {},
     "output_type": "execute_result"
    },
    {
     "data": {
      "image/png": "[encoded data removed]",
      "text/plain": [
       "<Figure size 432x288 with 1 Axes>"
      ]
     },
     "metadata": {
      "needs_background": "light"
     },
     "output_type": "display_data"
    }
   ],
   "source": [
    "plt.plot(x_true)\n",
    "plt.plot(w_guess)"
   ]
  },
  {
   "cell_type": "code",
   "execution_count": 22,
   "metadata": {},
   "outputs": [
    {
     "data": {
      "text/plain": [
       "array([[ True,  True,  True,  True,  True,  True,  True,  True]])"
      ]
     },
     "execution_count": 22,
     "metadata": {},
     "output_type": "execute_result"
    }
   ],
   "source": [
    "w_guess_nonzero = np.nonzero(w_guess)\n",
    "np.isin(x_true_nonzero, w_guess_nonzero)"
   ]
  },
  {
   "cell_type": "markdown",
   "metadata": {},
   "source": [
    "Clearly, $\\verb+w_guess+$ contains nonzero entries in mostly the same places as does $\\verb+x_true+$. Next, we look at how many nonzero entries there are in $\\verb+w_guess+$."
   ]
  },
  {
   "cell_type": "code",
   "execution_count": 23,
   "metadata": {},
   "outputs": [
    {
     "name": "stdout",
     "output_type": "stream",
     "text": [
      "This is the number of nonzero entries in w_guess: 11\n",
      "This is the number of nonzero entries in x_true: 8\n"
     ]
    }
   ],
   "source": [
    "print(\"This is the number of nonzero entries in w_guess: \" + str(len(w_guess_nonzero[0])))\n",
    "print(\"This is the number of nonzero entries in x_true: \" + str(len(x_true_nonzero[0])))"
   ]
  },
  {
   "cell_type": "markdown",
   "metadata": {},
   "source": [
    "Note that, even though there are more nonzero entries in $\\verb+w_guess+$ than in $\\verb+x_true+$, the number of non-sparse entries is much closer than what was obtained using the standard lasso method, using all the same parameters. Thus, we have a higher level of precision, as we desired.\n",
    "\n",
    "Last, we look at the number of iterations SR3 took to converge and the number of seconds required fro convergence."
   ]
  },
  {
   "cell_type": "code",
   "execution_count": 24,
   "metadata": {},
   "outputs": [
    {
     "name": "stdout",
     "output_type": "stream",
     "text": [
      "This is the number of iterations required for SR3 to converge: 88\n",
      "This is the number of seconds it takes for SR3 to converge: 0.00992584228515625\n"
     ]
    }
   ],
   "source": [
    "print(\"This is the number of iterations required for SR3 to converge: \" + str(iters_sr3))\n",
    "print(\"This is the number of seconds it takes for SR3 to converge: \" + str(end_sr3 - start_sr3))"
   ]
  },
  {
   "cell_type": "markdown",
   "metadata": {},
   "source": [
    "Note that, even for a small-dimension problem, the number of iterations required for SR3 to converge is decreased by an order of 10, as for the number of seconds required for convergence. This is exactly what we anticipated from the results shown in J33."
   ]
  },
  {
   "cell_type": "markdown",
   "metadata": {},
   "source": [
    "Use relationship between condition number of $A^{\\top}A$ to get $\\lambda$ parameter value for relaxed problem. It's how I define it using the variable $\\verb+lam_sr3+$."
   ]
  },
  {
   "cell_type": "markdown",
   "metadata": {},
   "source": [
    "Next, we seek to deblur an image using SR3, implementing the FISTA algorithm."
   ]
  },
  {
   "cell_type": "markdown",
   "metadata": {},
   "source": [
    "## Section 3 - FISTA on non-image data"
   ]
  },
  {
   "cell_type": "markdown",
   "metadata": {},
   "source": [
    "Before we do image deblurring, we're just going to run FISTA on the contrived data. So we reinitialize everything according to Section (1) again"
   ]
  },
  {
   "cell_type": "code",
   "execution_count": 127,
   "metadata": {},
   "outputs": [],
   "source": [
    "cond_A = svdvals(A)[0]\n",
    "eta = 0.001\n",
    "k = 0\n",
    "tol = 0.00001\n",
    "max_step = 100\n",
    "t = 1\n",
    "L = np.linalg.eigvals(A.T@A)[0]\n",
    "Linv = 1/L\n",
    "assert eta <= 1/(cond_A**2)"
   ]
  },
  {
   "cell_type": "code",
   "execution_count": 123,
   "metadata": {},
   "outputs": [],
   "source": [
    "def FISTA_norm(x, y, t, max_step, k, lam, tol):\n",
    "    start = time.time()\n",
    "    while (max_step > tol):\n",
    "        k += 1\n",
    "        x_old = x\n",
    "        y_old = y\n",
    "        t_old = t\n",
    "        z = y_old - Linv*(A.T)@((A@y_old)-b)\n",
    "        x = prox_op(z, lam*Linv)\n",
    "        t = (1 + np.sqrt(1 + 4*t_old**2))/2\n",
    "        y = x + ((t_old-1)/t)*(x - x_old)\n",
    "        step = abs((y - y_old)*Linv)\n",
    "        max_step = step.max()\n",
    "    end = time.time()\n",
    "    return y, start, end, k"
   ]
  },
  {
   "cell_type": "code",
   "execution_count": 128,
   "metadata": {},
   "outputs": [],
   "source": [
    "y_fista, start, end, k_fista = FISTA_norm(x_init, x_init, t, max_step, k, lam, tol)"
   ]
  },
  {
   "cell_type": "code",
   "execution_count": 129,
   "metadata": {},
   "outputs": [
    {
     "data": {
      "text/plain": [
       "[<matplotlib.lines.Line2D at 0x7fd3ff4a8dc0>]"
      ]
     },
     "execution_count": 129,
     "metadata": {},
     "output_type": "execute_result"
    },
    {
     "data": {
      "image/png": "[encoded data removed]",
      "text/plain": [
       "<Figure size 432x288 with 1 Axes>"
      ]
     },
     "metadata": {
      "needs_background": "light"
     },
     "output_type": "display_data"
    }
   ],
   "source": [
    "from matplotlib import pyplot as plt\n",
    "plt.plot(x_true)\n",
    "plt.plot(y_fista)"
   ]
  },
  {
   "cell_type": "markdown",
   "metadata": {},
   "source": [
    "The results from the plot are encouraging since they tell us that our vanilla FISTA model running on just the contrived data seems to be working."
   ]
  },
  {
   "cell_type": "code",
   "execution_count": 130,
   "metadata": {},
   "outputs": [
    {
     "data": {
      "text/plain": [
       "array([[ True,  True,  True,  True,  True,  True,  True,  True]])"
      ]
     },
     "execution_count": 130,
     "metadata": {},
     "output_type": "execute_result"
    }
   ],
   "source": [
    "y_fista_nonzero = np.nonzero(y_fista)\n",
    "x_true_nonzero = np.nonzero(x_true)\n",
    "np.isin(x_true_nonzero, y_fista_nonzero)"
   ]
  },
  {
   "cell_type": "code",
   "execution_count": 131,
   "metadata": {},
   "outputs": [
    {
     "name": "stdout",
     "output_type": "stream",
     "text": [
      "This is the number of nonzero entries in y_fista: 8\n",
      "This is the number of nonzero entries in x_true: 8\n"
     ]
    }
   ],
   "source": [
    "print(\"This is the number of nonzero entries in y_fista: \" + str(len(y_fista_nonzero[0])))\n",
    "print(\"This is the number of nonzero entries in x_true: \" + str(len(x_true_nonzero[0])))"
   ]
  },
  {
   "cell_type": "code",
   "execution_count": 132,
   "metadata": {},
   "outputs": [
    {
     "name": "stdout",
     "output_type": "stream",
     "text": [
      "This is the number of iterations required for FISTA to converge: 31\n",
      "This is the number of seconds it takes for FISTA to converge: 0.002595186233520508\n"
     ]
    }
   ],
   "source": [
    "print(\"This is the number of iterations required for FISTA to converge: \" + str(k_fista))\n",
    "print(\"This is the number of seconds it takes for FISTA to converge: \" + str(end - start))"
   ]
  },
  {
   "cell_type": "markdown",
   "metadata": {},
   "source": [
    "I'm not really going to comment on any of this. Needless to say, FISTA is working about as well as we could hope."
   ]
  },
  {
   "cell_type": "markdown",
   "metadata": {},
   "source": [
    "## Section 4 - FISTA on image deblurring"
   ]
  },
  {
   "cell_type": "code",
   "execution_count": 2,
   "metadata": {},
   "outputs": [],
   "source": [
    "import pywt\n",
    "import pywt.data"
   ]
  },
  {
   "cell_type": "markdown",
   "metadata": {},
   "source": [
    "Here we are importing the cameraman image and simply scaling the values of that image to be in between 0 and 1, as done in the FISTA paper."
   ]
  },
  {
   "cell_type": "code",
   "execution_count": 3,
   "metadata": {},
   "outputs": [
    {
     "data": {
      "text/plain": [
       "<matplotlib.image.AxesImage at 0x7f9cb1d69280>"
      ]
     },
     "execution_count": 3,
     "metadata": {},
     "output_type": "execute_result"
    },
    {
     "data": {
      "image/png": "[encoded data removed]",
      "text/plain": [
       "<Figure size 432x288 with 1 Axes>"
      ]
     },
     "metadata": {
      "needs_background": "light"
     },
     "output_type": "display_data"
    }
   ],
   "source": [
    "original = plt.imread(\"cameraman256.png\")\n",
    "original = original[60:130,100:170]\n",
    "plt.imshow(original,interpolation=\"nearest\",cmap=plt.cm.gray)"
   ]
  },
  {
   "cell_type": "code",
   "execution_count": 4,
   "metadata": {},
   "outputs": [],
   "source": [
    "m=original.shape[0]\n",
    "n=original.shape[1]"
   ]
  },
  {
   "cell_type": "markdown",
   "metadata": {},
   "source": [
    "We are now going to blur this image, following the details provided in the FISTA paper. To do this, we pass the image through a Gaussian blur of size $9 \\times 9$ and standard deviation 4, which we follow by adding on a zero-mean white Gaussian noise with standard deviation $10^{-3}$.\n",
    "\n",
    "To pass the image through the Gaussian blur, we first need to import a package from $\\verb+scipy+$ and create a function on our own to approximate the $\\verb+imfilter+$ and $\\verb+fspecial+$ functions in $\\verb+MATLAB+$."
   ]
  },
  {
   "cell_type": "markdown",
   "metadata": {},
   "source": [
    "Do adjoint test for 2d convolution operation (formula online). Look for code that already implements this."
   ]
  },
  {
   "cell_type": "code",
   "execution_count": 5,
   "metadata": {},
   "outputs": [],
   "source": [
    "from operators import blur_operator\n",
    "org = original.flatten(\"F\")\n",
    "blurred = blur_operator(org, reshape=True, shape=(9,9), sigma=1)"
   ]
  },
  {
   "cell_type": "code",
   "execution_count": 6,
   "metadata": {},
   "outputs": [
    {
     "data": {
      "text/plain": [
       "<matplotlib.image.AxesImage at 0x7f9ca1154a60>"
      ]
     },
     "execution_count": 6,
     "metadata": {},
     "output_type": "execute_result"
    },
    {
     "data": {
      "image/png": "[encoded data removed]",
      "text/plain": [
       "<Figure size 432x288 with 1 Axes>"
      ]
     },
     "metadata": {
      "needs_background": "light"
     },
     "output_type": "display_data"
    }
   ],
   "source": [
    "plt.imshow(blurred.reshape((m,m)),interpolation=\"nearest\", cmap=plt.cm.gray)"
   ]
  },
  {
   "cell_type": "markdown",
   "metadata": {},
   "source": [
    "As we can see, this successfully blurred the image as we desired. Now we look to construct the problem by first constructing our blur operator."
   ]
  },
  {
   "cell_type": "markdown",
   "metadata": {},
   "source": [
    "Is there a fast way to solve blur transpose blur: $R^\\top R$. Yes, think about Woodbury matrix inversion. Look in book for case where A is actually spectrally diagonalizable (through Fourier transform matrices). Derive closed form solution in SR3 (look at pictures)"
   ]
  },
  {
   "cell_type": "markdown",
   "metadata": {},
   "source": [
    "Here we will perform our adjoint test for the adjoint of the blur operator, as the correct adjoint for this method is necessary"
   ]
  },
  {
   "cell_type": "code",
   "execution_count": 7,
   "metadata": {},
   "outputs": [
    {
     "data": {
      "text/plain": [
       "True"
      ]
     },
     "execution_count": 7,
     "metadata": {},
     "output_type": "execute_result"
    }
   ],
   "source": [
    "from operator_tests import test_blur\n",
    "test_blur(org, blurred)"
   ]
  },
  {
   "cell_type": "markdown",
   "metadata": {},
   "source": [
    "Here, we now perform the adjoint test for the adjoint of the wavelet operator, as we must check to see if our operator is being implemented correctly."
   ]
  },
  {
   "cell_type": "code",
   "execution_count": 8,
   "metadata": {},
   "outputs": [
    {
     "data": {
      "text/plain": [
       "True"
      ]
     },
     "execution_count": 8,
     "metadata": {},
     "output_type": "execute_result"
    }
   ],
   "source": [
    "from operator_tests import test_wavelet\n",
    "test_wavelet(org, blurred)"
   ]
  },
  {
   "cell_type": "markdown",
   "metadata": {},
   "source": [
    "Here we now perform the adjoint test for the adjoint of the grad operator, since, if it passes, this will tell us if our operator has been implemented successfully."
   ]
  },
  {
   "cell_type": "code",
   "execution_count": 9,
   "metadata": {},
   "outputs": [
    {
     "data": {
      "text/plain": [
       "True"
      ]
     },
     "execution_count": 9,
     "metadata": {},
     "output_type": "execute_result"
    }
   ],
   "source": [
    "from operator_tests import test_grad\n",
    "test_grad(org,blurred)"
   ]
  },
  {
   "cell_type": "markdown",
   "metadata": {},
   "source": [
    "Last, we perform the adjoint test for the adjoint of the proximal operator, in this case using the soft-thresholding function since we are using $l_1$ regularization."
   ]
  },
  {
   "cell_type": "code",
   "execution_count": 10,
   "metadata": {},
   "outputs": [
    {
     "name": "stdout",
     "output_type": "stream",
     "text": [
      "This test fails\n"
     ]
    },
    {
     "data": {
      "text/plain": [
       "(550.9221, 1.6738322, 549.2483)"
      ]
     },
     "execution_count": 10,
     "metadata": {},
     "output_type": "execute_result"
    }
   ],
   "source": [
    "from operator_tests import test_prox\n",
    "lam = 0.001\n",
    "test_prox(org,blurred,lam)"
   ]
  },
  {
   "cell_type": "code",
   "execution_count": 11,
   "metadata": {},
   "outputs": [
    {
     "data": {
      "text/plain": [
       "array([0.03821569, 0.03429412, 0.03429412, ..., 0.6421373 , 0.6382157 ,\n",
       "       0.64605886], dtype=float32)"
      ]
     },
     "execution_count": 11,
     "metadata": {},
     "output_type": "execute_result"
    }
   ],
   "source": [
    "from operators import prox_op, adjoint_prox_op\n",
    "a1, a2 = prox_op(org,lam), adjoint_prox_op(org,lam)\n",
    "a1"
   ]
  },
  {
   "cell_type": "code",
   "execution_count": 25,
   "metadata": {},
   "outputs": [
    {
     "data": {
      "text/plain": [
       "array([0.99998, 0.99998, 0.99998, ..., 0.99998, 0.99998, 0.99998])"
      ]
     },
     "execution_count": 25,
     "metadata": {},
     "output_type": "execute_result"
    }
   ],
   "source": [
    "ones = np.ones(m**2)\n",
    "prox_op(ones,lam)"
   ]
  },
  {
   "cell_type": "code",
   "execution_count": 12,
   "metadata": {},
   "outputs": [
    {
     "data": {
      "text/plain": [
       "array([0.001     , 0.001     , 0.001     , ..., 0.00099999, 0.00099999,\n",
       "       0.00099999], dtype=float32)"
      ]
     },
     "execution_count": 12,
     "metadata": {},
     "output_type": "execute_result"
    }
   ],
   "source": [
    "a2"
   ]
  },
  {
   "cell_type": "markdown",
   "metadata": {},
   "source": [
    "Here we take the discrete 2D cosine transform of the matrix $A^\\top A$. Once we do this, we can use the formula\n",
    "\\begin{align*}\n",
    "    \\lambda_{i} = \\frac{[Ca_1]_{i}}{c_{i1}}\n",
    "\\end{align*}\n",
    "where $a_1$ is the first column of $A^\\top A$ and $C$ is the resulting matrix from the discrete cosine transform. I get this information from the book Deblurring Images."
   ]
  },
  {
   "cell_type": "code",
   "execution_count": 32,
   "metadata": {},
   "outputs": [],
   "source": [
    "from operators import evals_blur, fspecial\n",
    "L = evals_blur(fspecial((9,9),1))[0]*2\n",
    "Linv = 1/L\n",
    "k_FISTA = 0\n",
    "max_iter = 300"
   ]
  },
  {
   "cell_type": "markdown",
   "metadata": {},
   "source": [
    "Now we are going to define our first guesses and reshape all of our data."
   ]
  },
  {
   "cell_type": "code",
   "execution_count": 33,
   "metadata": {},
   "outputs": [],
   "source": [
    "b = blurred.flatten(\"F\")\n",
    "x_init = np.ones(m**2)\n",
    "y0 = x_init.copy()\n",
    "t = 1\n",
    "lam = 2e-5"
   ]
  },
  {
   "cell_type": "markdown",
   "metadata": {},
   "source": [
    "Since we also need the gradient of\n",
    "\\begin{align*}\n",
    "    f(x) = ||Ax-b||^{2}\n",
    "\\end{align*}\n",
    "which is\n",
    "\\begin{align*}\n",
    "    \\nabla f(x) = 2A^{\\top}(Ax-b)\n",
    "\\end{align*}\n",
    "we define a quick anonymous function to do the calculations for us"
   ]
  },
  {
   "cell_type": "markdown",
   "metadata": {},
   "source": [
    "### THE PROBLEM IS THE FREAKING WAVELET OPERATOR"
   ]
  },
  {
   "cell_type": "code",
   "execution_count": 34,
   "metadata": {},
   "outputs": [],
   "source": [
    "from operators import grad, wavelet_operator_1d, prox_op\n",
    "x = x_init\n",
    "y = y0\n",
    "while (k_FISTA <= max_iter):\n",
    "    k_FISTA += 1\n",
    "    x_old = x\n",
    "    y_old = y\n",
    "    t_old = t\n",
    "    z = y_old - Linv*grad(y_old, b)\n",
    "    # c = wavelet_operator_1d(z)\n",
    "    x = prox_op(z,lam/Linv)\n",
    "    t = 0.5*(1 + np.sqrt(1 + 4*t_old**2))\n",
    "    y = x + (t_old/t)*(x - x_old)"
   ]
  },
  {
   "cell_type": "markdown",
   "metadata": {},
   "source": [
    "Include information like step size at end $(x-x_old)/Linv$"
   ]
  },
  {
   "cell_type": "code",
   "execution_count": 35,
   "metadata": {},
   "outputs": [
    {
     "data": {
      "text/plain": [
       "array([0.03626189, 0.03150486, 0.03020414, ..., 0.64644176, 0.64423251,\n",
       "       0.64404549])"
      ]
     },
     "execution_count": 35,
     "metadata": {},
     "output_type": "execute_result"
    }
   ],
   "source": [
    "y"
   ]
  },
  {
   "cell_type": "code",
   "execution_count": 14,
   "metadata": {},
   "outputs": [],
   "source": [
    "from operators import adjoint_wavelet_operator_1d\n",
    "y_adj = adjoint_wavelet_operator_1d(y, c[1])"
   ]
  },
  {
   "cell_type": "code",
   "execution_count": 16,
   "metadata": {},
   "outputs": [
    {
     "data": {
      "text/plain": [
       "(4900,)"
      ]
     },
     "execution_count": 16,
     "metadata": {},
     "output_type": "execute_result"
    }
   ],
   "source": [
    "y_adj.shape"
   ]
  },
  {
   "cell_type": "code",
   "execution_count": 103,
   "metadata": {},
   "outputs": [
    {
     "data": {
      "text/plain": [
       "(4900,)"
      ]
     },
     "execution_count": 103,
     "metadata": {},
     "output_type": "execute_result"
    }
   ],
   "source": [
    "coeffs = pywt.array_to_coeffs(y,coeff_slices=c[1],output_format=\"wavedec\")\n",
    "y_invwt = pywt.waverec(coeffs, wavelet=\"haar\")\n",
    "# y_invwt = np.append(y_invwt, [0,0])\n",
    "y_invwt.shape"
   ]
  },
  {
   "cell_type": "code",
   "execution_count": 36,
   "metadata": {},
   "outputs": [],
   "source": [
    "y_fis = y.reshape(m,m, order=\"F\")"
   ]
  },
  {
   "cell_type": "code",
   "execution_count": 37,
   "metadata": {},
   "outputs": [
    {
     "data": {
      "text/plain": [
       "(70, 70)"
      ]
     },
     "execution_count": 37,
     "metadata": {},
     "output_type": "execute_result"
    }
   ],
   "source": [
    "y_fis.shape"
   ]
  },
  {
   "cell_type": "code",
   "execution_count": 38,
   "metadata": {},
   "outputs": [
    {
     "data": {
      "text/plain": [
       "array([[0.03626189, 0.04677831, 0.00796944, ..., 0.69775456, 0.69144737,\n",
       "        0.6939422 ],\n",
       "       [0.03150486, 0.0461752 , 0.04420429, ..., 0.68097775, 0.66528927,\n",
       "        0.68929961],\n",
       "       [0.03020414, 0.03182237, 0.03582572, ..., 0.68866462, 0.68633805,\n",
       "        0.7010829 ],\n",
       "       ...,\n",
       "       [0.05750467, 0.0464902 , 0.05449438, ..., 0.64394731, 0.63956072,\n",
       "        0.64644176],\n",
       "       [0.06272383, 0.05512218, 0.06179491, ..., 0.63891855, 0.63416206,\n",
       "        0.64423251],\n",
       "       [0.06068382, 0.0557165 , 0.0607225 , ..., 0.6465651 , 0.64100361,\n",
       "        0.64404549]])"
      ]
     },
     "execution_count": 38,
     "metadata": {},
     "output_type": "execute_result"
    }
   ],
   "source": [
    "y_fis"
   ]
  },
  {
   "cell_type": "markdown",
   "metadata": {},
   "source": [
    "List:\n",
    "1. Operators - Figure out how to get adjoint codes for operators work -> make adjoint test a unit test.\n",
    "2. Abstract the algorithms to take prox's and grad's, and then build the pieces to fit into equation.\n",
    "3. Include unit tests for gradient and prox.\n",
    "4. Store information for both PG and FISTA on function value and step size (defined above)\n",
    "5. Run prox gradient on deblurring problem."
   ]
  },
  {
   "cell_type": "code",
   "execution_count": 39,
   "metadata": {},
   "outputs": [
    {
     "data": {
      "text/plain": [
       "<matplotlib.image.AxesImage at 0x7f9cc1c5fa00>"
      ]
     },
     "execution_count": 39,
     "metadata": {},
     "output_type": "execute_result"
    },
    {
     "data": {
      "image/png": "[encoded data removed]",
      "text/plain": [
       "<Figure size 432x288 with 1 Axes>"
      ]
     },
     "metadata": {
      "needs_background": "light"
     },
     "output_type": "display_data"
    }
   ],
   "source": [
    "plt.imshow(y_fis,interpolation=\"nearest\",cmap=plt.cm.gray)"
   ]
  },
  {
   "cell_type": "code",
   "execution_count": 27,
   "metadata": {},
   "outputs": [],
   "source": [
    "def FISTA(x, y, t, k, lam, max_iter):\n",
    "    start = time.time()\n",
    "    while (k <= max_iter):\n",
    "        k += 1\n",
    "        print(\"On iteration \" + str(k))\n",
    "        x_old = x\n",
    "        y_old = y\n",
    "        t_old = t\n",
    "        print(\"Calculating gradient...\")\n",
    "        z = y_old - Linv*grad(y_old)\n",
    "        print(\"Entering proximal gradient and wavelet...\")\n",
    "        x = prox_op(wavelet_operator(np.reshape(z, (m,m))),lam*Linv)\n",
    "        t = (1 + (1+4*t_old**2)**(1/2))/2\n",
    "        y = x + (t_old/t)*(x - x_old)\n",
    "    end = time.time()\n",
    "    return y, start, end, k"
   ]
  },
  {
   "cell_type": "code",
   "execution_count": 28,
   "metadata": {},
   "outputs": [],
   "source": [
    "x_FISTA, start, end, k_FIS = FISTA(x_init, y0, t, k_FISTA, lam, max_iter)"
   ]
  },
  {
   "cell_type": "code",
   "execution_count": 101,
   "metadata": {},
   "outputs": [],
   "source": [
    "y_mat = np.reshape(y0, (m,m))"
   ]
  },
  {
   "cell_type": "code",
   "execution_count": 112,
   "metadata": {},
   "outputs": [],
   "source": [
    "coeffs = pywt.wavedec2(y_mat, wavelet=\"haar\", level=3)\n",
    "wav_x, _ = pywt.coeffs_to_array(coeffs)\n",
    "wav_x = wav_x[0:m,0:m]\n",
    "W = np.reshape(wav_x, (m**2,1))"
   ]
  },
  {
   "cell_type": "code",
   "execution_count": 108,
   "metadata": {},
   "outputs": [
    {
     "data": {
      "text/plain": [
       "(71, 71)"
      ]
     },
     "execution_count": 108,
     "metadata": {},
     "output_type": "execute_result"
    }
   ],
   "source": [
    "wav_x.shape"
   ]
  },
  {
   "cell_type": "code",
   "execution_count": 109,
   "metadata": {},
   "outputs": [
    {
     "data": {
      "text/plain": [
       "(70, 70)"
      ]
     },
     "execution_count": 109,
     "metadata": {},
     "output_type": "execute_result"
    }
   ],
   "source": [
    "y_mat.shape"
   ]
  },
  {
   "cell_type": "code",
   "execution_count": 7,
   "metadata": {},
   "outputs": [],
   "source": [
    "a = np.array([[1,2,3], [4,5,6]])"
   ]
  },
  {
   "cell_type": "code",
   "execution_count": 8,
   "metadata": {},
   "outputs": [
    {
     "data": {
      "text/plain": [
       "array([1, 4, 2, 5, 3, 6])"
      ]
     },
     "execution_count": 8,
     "metadata": {},
     "output_type": "execute_result"
    }
   ],
   "source": [
    "a.flatten(\"F\")"
   ]
  },
  {
   "cell_type": "code",
   "execution_count": 9,
   "metadata": {},
   "outputs": [
    {
     "data": {
      "text/plain": [
       "array([1, 4, 2, 5, 3, 6])"
      ]
     },
     "execution_count": 9,
     "metadata": {},
     "output_type": "execute_result"
    }
   ],
   "source": [
    "np.reshape(a, 6, order='F')"
   ]
  },
  {
   "cell_type": "code",
   "execution_count": 24,
   "metadata": {},
   "outputs": [],
   "source": [
    "import numpy as np\n",
    "import scipy.signal as signal\n",
    "import matplotlib.pyplot as plt\n",
    "\n",
    "def blur_operator(org, psf):\n",
    "    return signal.convolve2d(org, psf, mode='same', boundary='symm')\n",
    "\n",
    "def prox_soft_thresholding(x, lambd):\n",
    "    return np.sign(x) * np.maximum(np.abs(x) - lambd, 0)\n",
    "\n",
    "def fista_deblur(y, psf, lambd, max_iter=100, alpha=1.0, tol=1e-6):\n",
    "    x_shape = y.shape\n",
    "    psf_rot = np.rot90(psf, 2)\n",
    "    \n",
    "    # Initialize variables\n",
    "    x_k = y.copy()\n",
    "    x_prev = y.copy()\n",
    "    t_k = 1.0\n",
    "    \n",
    "    # Perform FISTA iterations\n",
    "    for k in range(max_iter):\n",
    "        # Compute gradient of the data-fidelity term\n",
    "        grad_data_term = signal.convolve2d(x_k, psf_rot, mode='same', boundary='symm') - y\n",
    "        \n",
    "        # Perform proximal operation\n",
    "        x_new = prox_soft_thresholding(x_k - alpha * grad_data_term, lambd * alpha)\n",
    "        \n",
    "        # Compute FISTA update\n",
    "        t_new = 0.5 * (1.0 + np.sqrt(1.0 + 4.0 * t_k**2))\n",
    "        alpha_new = (t_k - 1.0) / t_new\n",
    "        \n",
    "        # Update variables for next iteration\n",
    "        x_prev = x_k\n",
    "        x_k = x_new + alpha_new * (x_new - x_prev)\n",
    "        t_k = t_new\n",
    "        \n",
    "        # Check for convergence\n",
    "        if np.linalg.norm(x_k - x_prev) / np.linalg.norm(x_k) < tol:\n",
    "            print(f\"Converged after {k+1} iterations.\")\n",
    "            break\n",
    "    \n",
    "    return x_k.reshape(x_shape)"
   ]
  },
  {
   "cell_type": "code",
   "execution_count": 27,
   "metadata": {},
   "outputs": [],
   "source": [
    "from operators import fspecial\n",
    "psf = fspecial((9,9),1)\n",
    "x_fis = fista_deblur(blurred.reshape((m,m),order=\"F\"),psf, lam)"
   ]
  },
  {
   "cell_type": "code",
   "execution_count": 31,
   "metadata": {},
   "outputs": [
    {
     "data": {
      "text/plain": [
       "<matplotlib.image.AxesImage at 0x7f9cd0c9d820>"
      ]
     },
     "execution_count": 31,
     "metadata": {},
     "output_type": "execute_result"
    },
    {
     "data": {
      "image/png": "[encoded data removed]",
      "text/plain": [
       "<Figure size 432x288 with 1 Axes>"
      ]
     },
     "metadata": {
      "needs_background": "light"
     },
     "output_type": "display_data"
    }
   ],
   "source": [
    "plt.imshow(x_fis.T,interpolation=\"nearest\",cmap=plt.cm.gray)"
   ]
  },
  {
   "cell_type": "code",
   "execution_count": null,
   "metadata": {},
   "outputs": [],
   "source": []
  }
 ],
 "metadata": {
  "kernelspec": {
   "display_name": "Python 3.8.2 64-bit",
   "language": "python",
   "name": "python3"
  },
  "language_info": {
   "codemirror_mode": {
    "name": "ipython",
    "version": 3
   },
   "file_extension": ".py",
   "mimetype": "text/x-python",
   "name": "python",
   "nbconvert_exporter": "python",
   "pygments_lexer": "ipython3",
   "version": "3.8.2"
  },
  "orig_nbformat": 4,
  "vscode": {
   "interpreter": {
    "hash": "aee8b7b246df8f9039afb4144a1f6fd8d2ca17a180786b69acc140d282b71a49"
   }
  }
 },
 "nbformat": 4,
 "nbformat_minor": 2
}
